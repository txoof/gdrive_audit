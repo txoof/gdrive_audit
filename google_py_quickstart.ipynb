{
 "cells": [
  {
   "cell_type": "code",
   "execution_count": 3,
   "id": "598e1e07",
   "metadata": {},
   "outputs": [],
   "source": [
    "from __future__ import print_function\n",
    "\n",
    "import os.path\n",
    "\n",
    "from google.auth.transport.requests import Request\n",
    "from google.oauth2.credentials import Credentials\n",
    "from google_auth_oauthlib.flow import InstalledAppFlow\n",
    "from googleapiclient.discovery import build\n",
    "from googleapiclient.errors import HttpError\n",
    "\n",
    "# If modifying these scopes, delete the file token.json.\n",
    "SCOPES = ['https://www.googleapis.com/auth/drive']\n",
    "\n",
    "\n",
    "def main():\n",
    "    \"\"\"Shows basic usage of the Drive v3 API.\n",
    "    Prints the names and ids of the first 10 files the user has access to.\n",
    "    \"\"\"\n",
    "    creds = None\n",
    "    # The file token.json stores the user's access and refresh tokens, and is\n",
    "    # created automatically when the authorization flow completes for the first\n",
    "    # time.\n",
    "    if os.path.exists('token.json'):\n",
    "        creds = Credentials.from_authorized_user_file('token.json', SCOPES)\n",
    "    # If there are no (valid) credentials available, let the user log in.\n",
    "    if not creds or not creds.valid:\n",
    "        if creds and creds.expired and creds.refresh_token:\n",
    "            creds.refresh(Request())\n",
    "        else:\n",
    "            flow = InstalledAppFlow.from_client_secrets_file(\n",
    "                './secrets/client_secret_910311278281-bh8qk3kmgk0veri3v8en260e76ipafpj.apps.googleusercontent.com.json', SCOPES)\n",
    "            creds = flow.run_local_server(port=0)\n",
    "        # Save the credentials for the next run\n",
    "        with open('token.json', 'w') as token:\n",
    "            token.write(creds.to_json())\n",
    "\n",
    "    try:\n",
    "        service = build('drive', 'v3', credentials=creds)\n",
    "\n",
    "        # Call the Drive v3 API\n",
    "        results = service.files().list(\n",
    "            pageSize=10, fields=\"nextPageToken, files(id, name)\").execute()\n",
    "        items = results.get('files', [])\n",
    "\n",
    "        if not items:\n",
    "            print('No files found.')\n",
    "            return\n",
    "        print('Files:')\n",
    "        for item in items:\n",
    "            print(u'{0} ({1})'.format(item['name'], item['id']))\n",
    "    except HttpError as error:\n",
    "        # TODO(developer) - Handle errors from drive API.\n",
    "        print(f'An error occurred: {error}')"
   ]
  },
  {
   "cell_type": "code",
   "execution_count": 5,
   "id": "235007d2",
   "metadata": {},
   "outputs": [
    {
     "name": "stdout",
     "output_type": "stream",
     "text": [
      "Please visit this URL to authorize this application: https://accounts.google.com/o/oauth2/auth?response_type=code&client_id=910311278281-bh8qk3kmgk0veri3v8en260e76ipafpj.apps.googleusercontent.com&redirect_uri=http%3A%2F%2Flocalhost%3A57326%2F&scope=https%3A%2F%2Fwww.googleapis.com%2Fauth%2Fdrive&state=LTU3xJmZG1rTydec2rbWY00Ct3r4LC&access_type=offline\n",
      "Files:\n",
      "Key Words - Exploration Research 2021.docx (1MEn-vdm_jvmbhgvYTeqMp5EVvPSYL-j2)\n",
      "21-22 Attendance January - June (1hMyQgFtNYCGqpJepu1wDsJNvFos5WNXRCwX22RIGCgw)\n",
      "Copy of Inquiry Project - Social Studies - Unit 2 (1rHyyqtD0tap64sVd4jt80CYvN9OykM0dUTomjfKyocA)\n",
      "Copy of Native American Group:Eastern Woodland Natives (1LnZVS8HMyKNwafkjfOAhPKHG1sk29OEPePfu7sqBcN0)\n",
      "21-22 MS Week-at'a-Glance (WAG)  (1bkH-la6o-ULnsHDLQMumSsRtJp55yQz6v4bKyKRZlDQ)\n",
      "Copy of Eastern Woodland Indians - INQUIRY project,  (1z0I00s6LnUDPfggP93FY8uk7_OOnXTdirZYW_g8AHM8)\n",
      "SIMULATION RULES: THE 13 COLONIES (1GXvN2_pCh5MTlf4mRku--wisyFPdpHc4kh6m8sg6nqk)\n",
      "Class of 2022 IB predicted grades (1sE1ptsODpasbtcWd3hw1hARLUorln4ligzoWNclCM9U)\n",
      "VWB Staff Registration and Roster Sheet (1Xkuu65WXRHkGZ356q0O8yrywfv7Sss3-8vjJ1fQv3vw)\n",
      "Admissions: Mid-Year Arrivals (1t1d76gA9MuZ6qWlB8WEw-ZLrrFLjADKD2LrGu6o46EM)\n"
     ]
    }
   ],
   "source": [
    "if __name__ == '__main__':\n",
    "    main()\n",
    "# [END drive_quickstart]"
   ]
  },
  {
   "cell_type": "code",
   "execution_count": null,
   "id": "46d66151",
   "metadata": {},
   "outputs": [],
   "source": []
  }
 ],
 "metadata": {
  "kernelspec": {
   "display_name": "gdrive_audit-YwT2AZf4",
   "language": "python",
   "name": "gdrive_audit-ywt2azf4"
  },
  "language_info": {
   "codemirror_mode": {
    "name": "ipython",
    "version": 3
   },
   "file_extension": ".py",
   "mimetype": "text/x-python",
   "name": "python",
   "nbconvert_exporter": "python",
   "pygments_lexer": "ipython3",
   "version": "3.9.9"
  }
 },
 "nbformat": 4,
 "nbformat_minor": 5
}
