{
 "cells": [
  {
   "cell_type": "code",
   "execution_count": 1,
   "id": "cb074cec",
   "metadata": {},
   "outputs": [],
   "source": [
    "%load_ext autoreload\n",
    "%autoreload 2"
   ]
  },
  {
   "cell_type": "code",
   "execution_count": 4,
   "id": "0bb98540",
   "metadata": {},
   "outputs": [],
   "source": [
    "try:\n",
    "    from . import contants\n",
    "except ImportError:\n",
    "    import constants\n",
    "\n"
   ]
  },
  {
   "cell_type": "code",
   "execution_count": 5,
   "id": "a2b6fffd",
   "metadata": {},
   "outputs": [],
   "source": [
    "import logging"
   ]
  },
  {
   "cell_type": "code",
   "execution_count": 8,
   "id": "010d64b1",
   "metadata": {},
   "outputs": [],
   "source": [
    "logging.basicConfig(level=logging.DEBUG)\n",
    "logger = logging.getLogger(__name__)"
   ]
  },
  {
   "cell_type": "code",
   "execution_count": null,
   "id": "bef5cb80",
   "metadata": {},
   "outputs": [],
   "source": [
    "def recurse_folders(drive, parents, \n",
    "                    fields=['parents', 'id', 'name', 'mimeType', 'owners', 'modifiedTime', 'webViewLink', 'parents'], \n",
    "                    file_list=[], skipped=[], depth=0):\n",
    "    '''recursively find all files in a google drive folder'''\n",
    "    if depth == 0:\n",
    "        file_list = []\n",
    "        skipped = []\n",
    "    logger.info(f'recursion depth: {depth}')\n",
    "    try:\n",
    "        result = drive.search(parents=parents, fields=fields)\n",
    "    except GDriveError as e:\n",
    "        logger.error(f'error accessing google drive: {e}')\n",
    "        skipped.append(parents)\n",
    "        result = {}\n",
    "        \n",
    "    for f in result:\n",
    "        if drive.MIMETYPES['folder'] == f.get('mimeType'):\n",
    "            return_files, return_skipped = recurse_folders(drive=drive, parents=f['id'], \n",
    "                                         fields=fields, \n",
    "                                         file_list=file_list,\n",
    "                                         skipped=skipped,\n",
    "                                         depth=depth+1)\n",
    "            file_list + return_files\n",
    "            skipped + return_files\n",
    "        else:\n",
    "            file_list.append(f)\n",
    "    return (file_list, skipped)\n",
    "            "
   ]
  }
 ],
 "metadata": {
  "kernelspec": {
   "display_name": "gdrive_audit-k7Dny7ri",
   "language": "python",
   "name": "gdrive_audit-k7dny7ri"
  },
  "language_info": {
   "codemirror_mode": {
    "name": "ipython",
    "version": 3
   },
   "file_extension": ".py",
   "mimetype": "text/x-python",
   "name": "python",
   "nbconvert_exporter": "python",
   "pygments_lexer": "ipython3",
   "version": "3.9.9"
  }
 },
 "nbformat": 4,
 "nbformat_minor": 5
}
