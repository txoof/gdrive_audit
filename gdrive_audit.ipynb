{
 "cells": [
  {
   "cell_type": "code",
   "execution_count": 6,
   "id": "cb074cec",
   "metadata": {},
   "outputs": [
    {
     "name": "stdout",
     "output_type": "stream",
     "text": [
      "The autoreload extension is already loaded. To reload it, use:\n",
      "  %reload_ext autoreload\n"
     ]
    }
   ],
   "source": [
    "%load_ext autoreload\n",
    "%autoreload 1"
   ]
  },
  {
   "cell_type": "code",
   "execution_count": 2,
   "id": "0bb98540",
   "metadata": {},
   "outputs": [],
   "source": [
    "try:\n",
    "    from . import contants\n",
    "except ImportError:\n",
    "    import constants\n",
    "\n",
    "import re\n",
    "    \n",
    "from humanfriendly import prompts\n",
    "import textwrap\n",
    "import logging\n",
    "\n"
   ]
  },
  {
   "cell_type": "code",
   "execution_count": 4,
   "id": "6b6d0d63",
   "metadata": {},
   "outputs": [],
   "source": [
    "from library import GDrive"
   ]
  },
  {
   "cell_type": "code",
   "execution_count": null,
   "id": "ebe90844",
   "metadata": {},
   "outputs": [],
   "source": [
    "d = GDrive(secrets='./secrets/client_secret_910311278281-bh8qk3kmgk0veri3v8en260e76ipafpj.apps.googleusercontent.com.json', scopes=constants.SCOPES)"
   ]
  },
  {
   "cell_type": "code",
   "execution_count": null,
   "id": "6dd407d3",
   "metadata": {},
   "outputs": [],
   "source": [
    "d.search('Misc Junk')"
   ]
  },
  {
   "cell_type": "code",
   "execution_count": null,
   "id": "010d64b1",
   "metadata": {},
   "outputs": [],
   "source": [
    "logging.basicConfig(level=logging.DEBUG)\n",
    "logger = logging.getLogger(__name__)"
   ]
  },
  {
   "cell_type": "code",
   "execution_count": null,
   "id": "c8793afb",
   "metadata": {},
   "outputs": [],
   "source": [
    "def do_exit(exit_level=0, message='', testing=False):\n",
    "\n",
    "    if testing:\n",
    "        print(f'TESTING--EXIT MESSAGE: ({exit_level}){message}')\n",
    "    elif exit_level > 0:\n",
    "        logger.warning(f'exiting before completion with exit code {exit_level}: {message}')\n",
    "        print(message)\n",
    "        exit(exit_level)\n",
    "    else:\n",
    "        print(message)\n",
    "        exit(0)\n",
    "        "
   ]
  },
  {
   "cell_type": "code",
   "execution_count": null,
   "id": "bef5cb80",
   "metadata": {},
   "outputs": [],
   "source": [
    "def recurse_folders(drive, parents, \n",
    "                    fields=['parents', 'id', 'name', 'mimeType', 'owners', 'modifiedTime', 'webViewLink', 'parents'], \n",
    "                    file_list=[], skipped=[], depth=0):\n",
    "    '''recursively find all files in a google drive folder'''\n",
    "    if depth == 0:\n",
    "        file_list = []\n",
    "        skipped = []\n",
    "    logger.info(f'recursion depth: {depth}')\n",
    "    try:\n",
    "        result = drive.search(parents=parents, fields=fields)\n",
    "    except GDriveError as e:\n",
    "        logger.error(f'error accessing google drive: {e}')\n",
    "        skipped.append(parents)\n",
    "        result = {}\n",
    "        \n",
    "    for f in result:\n",
    "        if drive.MIMETYPES['folder'] == f.get('mimeType'):\n",
    "            return_files, return_skipped = recurse_folders(drive=drive, parents=f['id'], \n",
    "                                         fields=fields, \n",
    "                                         file_list=file_list,\n",
    "                                         skipped=skipped,\n",
    "                                         depth=depth+1)\n",
    "            file_list + return_files\n",
    "            skipped + return_files\n",
    "        else:\n",
    "            file_list.append(f)\n",
    "    return (file_list, skipped)\n",
    "            "
   ]
  },
  {
   "cell_type": "code",
   "execution_count": null,
   "id": "ecf154ea",
   "metadata": {},
   "outputs": [],
   "source": [
    "def get_folder_id():\n",
    "    '''get folder id from URL provided by user\n",
    "    \n",
    "    Returns:\n",
    "        str: unique google drive folder id'''\n",
    "    valid_url = False\n",
    "    retry = 4\n",
    "    folderID = None\n",
    "    print('\\n')\n",
    "    while not valid_url and retry > 0:\n",
    "        retry -= 1\n",
    "        url = prompts.prompt_for_input('Paste the URL of a Google Drive folder to audit:\\n')\n",
    "        \n",
    "        match = re.match('https:\\/\\/drive.google.com\\/.*(?:\\w+\\/|=)([a-zA-Z0-9_-]+)', url)\n",
    "        if not match:\n",
    "            print('That does not appear to be a valid google drive folder URL')\n",
    "            continue\n",
    "        else:\n",
    "            folderID = match[1]\n",
    "            valid_url = True\n",
    "    \n",
    "    return folderID"
   ]
  },
  {
   "cell_type": "code",
   "execution_count": null,
   "id": "c59ec0ec",
   "metadata": {},
   "outputs": [],
   "source": [
    "def main():\n",
    "    \n",
    "    \n",
    "    \n",
    "    drive = GDrive(secrets='./secrets/client_secret_910311278281-bh8qk3kmgk0veri3v8en260e76ipafpj.apps.googleusercontent.com.json', scopes=constants.SCOPES)\n",
    "    \n",
    "    wrapper = textwrap.TextWrapper(replace_whitespace=True, drop_whitespace=True, width=60)\n",
    "    welcome = f'{constants.APP_NAME} provides a Google Sheet that shows all of the files and owners within a google drive folder.'\n",
    "    print('\\n'.join(wrapper.wrap(welcome)))\n",
    "    folder_id = get_folder_id()\n",
    "    \n",
    "    if not folder_id:\n",
    "        do_exit(1, 'No valid folder URL was provided. Exiting')\n",
    "        \n",
    "    \n"
   ]
  },
  {
   "cell_type": "code",
   "execution_count": 19,
   "id": "dd8f3e92",
   "metadata": {},
   "outputs": [],
   "source": [
    "def get_secrets():\n",
    "    if not constants.SECRETS_PATHS['saved'].exists():\n",
    "        constants.SECRETS_PATHS['saved'].parent.mkdir(parents=True, exist_ok=True)\n",
    "        \n",
    "    if not constants.SECRETS_PATHS['saved'].exists():\n",
    "        ## figure out how to do this, provid instructions when it fails\n",
    "        print(f\"copy {constants.SECRETS_PATHS['downloaded']} to {constants.SECRETS_PATHS['saved']}\")\n"
   ]
  },
  {
   "cell_type": "code",
   "execution_count": 17,
   "id": "42d52f33",
   "metadata": {},
   "outputs": [
    {
     "data": {
      "text/plain": [
       "False"
      ]
     },
     "execution_count": 17,
     "metadata": {},
     "output_type": "execute_result"
    }
   ],
   "source": [
    "constants.SECRETS_PATHS['saved'].exists()"
   ]
  },
  {
   "cell_type": "code",
   "execution_count": 20,
   "id": "6a864fa1",
   "metadata": {},
   "outputs": [
    {
     "name": "stdout",
     "output_type": "stream",
     "text": [
      "copy /Users/aciuffo/Downloads/client_secrets.json to /Users/aciuffo/.cache/gdrive_audit/client_secrets.json\n"
     ]
    }
   ],
   "source": [
    "get_secrets()"
   ]
  },
  {
   "cell_type": "code",
   "execution_count": null,
   "id": "2cad254c",
   "metadata": {},
   "outputs": [],
   "source": []
  },
  {
   "cell_type": "code",
   "execution_count": null,
   "id": "f6cd6158",
   "metadata": {},
   "outputs": [],
   "source": [
    "main()"
   ]
  },
  {
   "cell_type": "code",
   "execution_count": null,
   "id": "4f2d353d",
   "metadata": {},
   "outputs": [],
   "source": [
    "wrapper = textwrap.TextWrapper(replace_whitespace=True, drop_whitespace=True, width=45)"
   ]
  },
  {
   "cell_type": "code",
   "execution_count": null,
   "id": "4e6937da",
   "metadata": {},
   "outputs": [],
   "source": []
  }
 ],
 "metadata": {
  "kernelspec": {
   "display_name": "gdrive_audit-k7Dny7ri",
   "language": "python",
   "name": "gdrive_audit-k7dny7ri"
  },
  "language_info": {
   "codemirror_mode": {
    "name": "ipython",
    "version": 3
   },
   "file_extension": ".py",
   "mimetype": "text/x-python",
   "name": "python",
   "nbconvert_exporter": "python",
   "pygments_lexer": "ipython3",
   "version": "3.9.2"
  }
 },
 "nbformat": 4,
 "nbformat_minor": 5
}
