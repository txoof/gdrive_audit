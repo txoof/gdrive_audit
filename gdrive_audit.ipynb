{
 "cells": [
  {
   "cell_type": "code",
   "execution_count": 6,
   "id": "cb074cec",
   "metadata": {},
   "outputs": [
    {
     "name": "stdout",
     "output_type": "stream",
     "text": [
      "The autoreload extension is already loaded. To reload it, use:\n",
      "  %reload_ext autoreload\n"
     ]
    }
   ],
   "source": [
    "%load_ext autoreload\n",
    "%autoreload 1"
   ]
  },
  {
   "cell_type": "code",
   "execution_count": 31,
   "id": "0bb98540",
   "metadata": {},
   "outputs": [],
   "source": [
    "try:\n",
    "    from . import contants\n",
    "except ImportError:\n",
    "    import constants\n",
    "\n",
    "import re\n",
    "import logging\n",
    "import shutil\n",
    "\n",
    "from humanfriendly import prompts\n",
    "import textwrap\n",
    "\n",
    "\n"
   ]
  },
  {
   "cell_type": "code",
   "execution_count": 32,
   "id": "40ba2720",
   "metadata": {},
   "outputs": [],
   "source": [
    "from library import GDrive"
   ]
  },
  {
   "cell_type": "code",
   "execution_count": null,
   "id": "abac20cf",
   "metadata": {},
   "outputs": [],
   "source": [
    "d = GDrive(secrets='./secrets/client_secret_910311278281-bh8qk3kmgk0veri3v8en260e76ipafpj.apps.googleusercontent.com.json', scopes=constants.SCOPES)"
   ]
  },
  {
   "cell_type": "code",
   "execution_count": null,
   "id": "f98a249f",
   "metadata": {},
   "outputs": [],
   "source": [
    "d.search('Misc Junk')"
   ]
  },
  {
   "cell_type": "code",
   "execution_count": 33,
   "id": "010d64b1",
   "metadata": {},
   "outputs": [],
   "source": [
    "logging.basicConfig(level=logging.DEBUG)\n",
    "logger = logging.getLogger(__name__)"
   ]
  },
  {
   "cell_type": "code",
   "execution_count": 34,
   "id": "bc121534",
   "metadata": {},
   "outputs": [],
   "source": [
    "def do_exit(exit_level=0, message='', testing=False):\n",
    "\n",
    "    if testing:\n",
    "        print(f'TESTING--EXIT MESSAGE: ({exit_level}){message}')\n",
    "    elif exit_level > 0:\n",
    "        logger.warning(f'exiting before completion with exit code {exit_level}: {message}')\n",
    "        print(message)\n",
    "        exit(exit_level)\n",
    "    else:\n",
    "        print(message)\n",
    "        exit(0)\n",
    "        "
   ]
  },
  {
   "cell_type": "code",
   "execution_count": 35,
   "id": "bef5cb80",
   "metadata": {},
   "outputs": [],
   "source": [
    "def recurse_folders(drive, parents, \n",
    "                    fields=['parents', 'id', 'name', 'mimeType', 'owners', 'modifiedTime', 'webViewLink', 'parents'], \n",
    "                    file_list=[], skipped=[], depth=0):\n",
    "    '''recursively find all files in a google drive folder'''\n",
    "    if depth == 0:\n",
    "        file_list = []\n",
    "        skipped = []\n",
    "    logger.info(f'recursion depth: {depth}')\n",
    "    try:\n",
    "        result = drive.search(parents=parents, fields=fields)\n",
    "    except GDriveError as e:\n",
    "        logger.error(f'error accessing google drive: {e}')\n",
    "        skipped.append(parents)\n",
    "        result = {}\n",
    "        \n",
    "    for f in result:\n",
    "        if drive.MIMETYPES['folder'] == f.get('mimeType'):\n",
    "            return_files, return_skipped = recurse_folders(drive=drive, parents=f['id'], \n",
    "                                         fields=fields, \n",
    "                                         file_list=file_list,\n",
    "                                         skipped=skipped,\n",
    "                                         depth=depth+1)\n",
    "            file_list + return_files\n",
    "            skipped + return_files\n",
    "        else:\n",
    "            file_list.append(f)\n",
    "    return (file_list, skipped)\n",
    "            "
   ]
  },
  {
   "cell_type": "code",
   "execution_count": 36,
   "id": "b28a46e4",
   "metadata": {},
   "outputs": [],
   "source": [
    "def get_folder_id():\n",
    "    '''get folder id from URL provided by user\n",
    "    \n",
    "    Returns:\n",
    "        str: unique google drive folder id'''\n",
    "    valid_url = False\n",
    "    retry = 4\n",
    "    folderID = None\n",
    "    print('\\n')\n",
    "    while not valid_url and retry > 0:\n",
    "        retry -= 1\n",
    "        url = prompts.prompt_for_input('Paste the URL of a Google Drive folder to audit:\\n')\n",
    "        \n",
    "        match = re.match('https:\\/\\/drive.google.com\\/.*(?:\\w+\\/|=)([a-zA-Z0-9_-]+)', url)\n",
    "        if not match:\n",
    "            print('That does not appear to be a valid google drive folder URL')\n",
    "            continue\n",
    "        else:\n",
    "            folderID = match[1]\n",
    "            valid_url = True\n",
    "    \n",
    "    return folderID"
   ]
  },
  {
   "cell_type": "code",
   "execution_count": 37,
   "id": "14b90af1",
   "metadata": {},
   "outputs": [],
   "source": [
    "def main():\n",
    "    \n",
    "    \n",
    "    \n",
    "    drive = GDrive(secrets='./secrets/client_secret_910311278281-bh8qk3kmgk0veri3v8en260e76ipafpj.apps.googleusercontent.com.json', scopes=constants.SCOPES)\n",
    "    \n",
    "    wrapper = textwrap.TextWrapper(replace_whitespace=True, drop_whitespace=True, width=60)\n",
    "    welcome = f'{constants.APP_NAME} provides a Google Sheet that shows all of the files and owners within a google drive folder.'\n",
    "    print('\\n'.join(wrapper.wrap(welcome)))\n",
    "    folder_id = get_folder_id()\n",
    "    \n",
    "    if not folder_id:\n",
    "        do_exit(1, 'No valid folder URL was provided. Exiting')\n",
    "        \n",
    "    \n"
   ]
  },
  {
   "cell_type": "code",
   "execution_count": 46,
   "id": "cf8323a6",
   "metadata": {},
   "outputs": [],
   "source": [
    "def get_secrets():\n",
    "    if not constants.SECRETS_PATHS['saved'].exists():\n",
    "        constants.SECRETS_PATHS['saved'].parent.mkdir(parents=True, exist_ok=True)\n",
    "        \n",
    "    if not constants.SECRETS_PATHS['saved'].exists():\n",
    "        try:\n",
    "            logger.debug(f'trying to move secrets from {constants.SECRETS_PATHS[\"downloaded\"]}')\n",
    "            shutil.move(constants.SECRETS_PATHS['downloaded'], constants.SECRETS_PATHS['saved'])\n",
    "        except FileNotFoundError as e:\n",
    "            do_exit(1, \"client_secrets.json file is not avialable. Download the secrets file (see documentation) and try again.\")\n",
    "        except OSError as e:\n",
    "            do_exit(1, f\"failed to install secrets file: {e}\")\n",
    "    else:\n",
    "        logger.debug(f'using {constants.SECRETS_PATHS[\"saved\"]}')\n",
    "        \n",
    "    return constants.SECRETS_PATHS['saved']"
   ]
  },
  {
   "cell_type": "code",
   "execution_count": 48,
   "id": "c12279b3",
   "metadata": {},
   "outputs": [
    {
     "name": "stderr",
     "output_type": "stream",
     "text": [
      "DEBUG:__main__:using /Users/aciuffo/.cache/gdrive_audit/client_secrets.json\n"
     ]
    }
   ],
   "source": [
    "secrets = get_secrets()\n"
   ]
  },
  {
   "cell_type": "code",
   "execution_count": 24,
   "id": "71f1ac46",
   "metadata": {},
   "outputs": [
    {
     "ename": "FileNotFoundError",
     "evalue": "[Errno 2] No such file or directory: '/Users/aciuffo/Downloads/client_secrets.json'",
     "output_type": "error",
     "traceback": [
      "\u001b[0;31m---------------------------------------------------------------------------\u001b[0m",
      "\u001b[0;31mFileNotFoundError\u001b[0m                         Traceback (most recent call last)",
      "File \u001b[0;32m~/.pyenv/versions/3.9.2/lib/python3.9/shutil.py:806\u001b[0m, in \u001b[0;36mmove\u001b[0;34m(src, dst, copy_function)\u001b[0m\n\u001b[1;32m    805\u001b[0m \u001b[38;5;28;01mtry\u001b[39;00m:\n\u001b[0;32m--> 806\u001b[0m     \u001b[43mos\u001b[49m\u001b[38;5;241;43m.\u001b[39;49m\u001b[43mrename\u001b[49m\u001b[43m(\u001b[49m\u001b[43msrc\u001b[49m\u001b[43m,\u001b[49m\u001b[43m \u001b[49m\u001b[43mreal_dst\u001b[49m\u001b[43m)\u001b[49m\n\u001b[1;32m    807\u001b[0m \u001b[38;5;28;01mexcept\u001b[39;00m \u001b[38;5;167;01mOSError\u001b[39;00m:\n",
      "\u001b[0;31mFileNotFoundError\u001b[0m: [Errno 2] No such file or directory: '/Users/aciuffo/Downloads/client_secrets.json' -> '/Users/aciuffo/.cache/gdrive_audit/client_secrets.json'",
      "\nDuring handling of the above exception, another exception occurred:\n",
      "\u001b[0;31mFileNotFoundError\u001b[0m                         Traceback (most recent call last)",
      "Input \u001b[0;32mIn [24]\u001b[0m, in \u001b[0;36m<module>\u001b[0;34m\u001b[0m\n\u001b[0;32m----> 1\u001b[0m \u001b[43mshutil\u001b[49m\u001b[38;5;241;43m.\u001b[39;49m\u001b[43mmove\u001b[49m\u001b[43m(\u001b[49m\u001b[43mconstants\u001b[49m\u001b[38;5;241;43m.\u001b[39;49m\u001b[43mSECRETS_PATHS\u001b[49m\u001b[43m[\u001b[49m\u001b[38;5;124;43m'\u001b[39;49m\u001b[38;5;124;43mdownloaded\u001b[39;49m\u001b[38;5;124;43m'\u001b[39;49m\u001b[43m]\u001b[49m\u001b[43m,\u001b[49m\u001b[43m \u001b[49m\u001b[43mconstants\u001b[49m\u001b[38;5;241;43m.\u001b[39;49m\u001b[43mSECRETS_PATHS\u001b[49m\u001b[43m[\u001b[49m\u001b[38;5;124;43m'\u001b[39;49m\u001b[38;5;124;43msaved\u001b[39;49m\u001b[38;5;124;43m'\u001b[39;49m\u001b[43m]\u001b[49m\u001b[43m)\u001b[49m\n",
      "File \u001b[0;32m~/.pyenv/versions/3.9.2/lib/python3.9/shutil.py:820\u001b[0m, in \u001b[0;36mmove\u001b[0;34m(src, dst, copy_function)\u001b[0m\n\u001b[1;32m    818\u001b[0m         rmtree(src)\n\u001b[1;32m    819\u001b[0m     \u001b[38;5;28;01melse\u001b[39;00m:\n\u001b[0;32m--> 820\u001b[0m         \u001b[43mcopy_function\u001b[49m\u001b[43m(\u001b[49m\u001b[43msrc\u001b[49m\u001b[43m,\u001b[49m\u001b[43m \u001b[49m\u001b[43mreal_dst\u001b[49m\u001b[43m)\u001b[49m\n\u001b[1;32m    821\u001b[0m         os\u001b[38;5;241m.\u001b[39munlink(src)\n\u001b[1;32m    822\u001b[0m \u001b[38;5;28;01mreturn\u001b[39;00m real_dst\n",
      "File \u001b[0;32m~/.pyenv/versions/3.9.2/lib/python3.9/shutil.py:435\u001b[0m, in \u001b[0;36mcopy2\u001b[0;34m(src, dst, follow_symlinks)\u001b[0m\n\u001b[1;32m    433\u001b[0m \u001b[38;5;28;01mif\u001b[39;00m os\u001b[38;5;241m.\u001b[39mpath\u001b[38;5;241m.\u001b[39misdir(dst):\n\u001b[1;32m    434\u001b[0m     dst \u001b[38;5;241m=\u001b[39m os\u001b[38;5;241m.\u001b[39mpath\u001b[38;5;241m.\u001b[39mjoin(dst, os\u001b[38;5;241m.\u001b[39mpath\u001b[38;5;241m.\u001b[39mbasename(src))\n\u001b[0;32m--> 435\u001b[0m \u001b[43mcopyfile\u001b[49m\u001b[43m(\u001b[49m\u001b[43msrc\u001b[49m\u001b[43m,\u001b[49m\u001b[43m \u001b[49m\u001b[43mdst\u001b[49m\u001b[43m,\u001b[49m\u001b[43m \u001b[49m\u001b[43mfollow_symlinks\u001b[49m\u001b[38;5;241;43m=\u001b[39;49m\u001b[43mfollow_symlinks\u001b[49m\u001b[43m)\u001b[49m\n\u001b[1;32m    436\u001b[0m copystat(src, dst, follow_symlinks\u001b[38;5;241m=\u001b[39mfollow_symlinks)\n\u001b[1;32m    437\u001b[0m \u001b[38;5;28;01mreturn\u001b[39;00m dst\n",
      "File \u001b[0;32m~/.pyenv/versions/3.9.2/lib/python3.9/shutil.py:264\u001b[0m, in \u001b[0;36mcopyfile\u001b[0;34m(src, dst, follow_symlinks)\u001b[0m\n\u001b[1;32m    262\u001b[0m     os\u001b[38;5;241m.\u001b[39msymlink(os\u001b[38;5;241m.\u001b[39mreadlink(src), dst)\n\u001b[1;32m    263\u001b[0m \u001b[38;5;28;01melse\u001b[39;00m:\n\u001b[0;32m--> 264\u001b[0m     \u001b[38;5;28;01mwith\u001b[39;00m \u001b[38;5;28;43mopen\u001b[39;49m\u001b[43m(\u001b[49m\u001b[43msrc\u001b[49m\u001b[43m,\u001b[49m\u001b[43m \u001b[49m\u001b[38;5;124;43m'\u001b[39;49m\u001b[38;5;124;43mrb\u001b[39;49m\u001b[38;5;124;43m'\u001b[39;49m\u001b[43m)\u001b[49m \u001b[38;5;28;01mas\u001b[39;00m fsrc, \u001b[38;5;28mopen\u001b[39m(dst, \u001b[38;5;124m'\u001b[39m\u001b[38;5;124mwb\u001b[39m\u001b[38;5;124m'\u001b[39m) \u001b[38;5;28;01mas\u001b[39;00m fdst:\n\u001b[1;32m    265\u001b[0m         \u001b[38;5;66;03m# macOS\u001b[39;00m\n\u001b[1;32m    266\u001b[0m         \u001b[38;5;28;01mif\u001b[39;00m _HAS_FCOPYFILE:\n\u001b[1;32m    267\u001b[0m             \u001b[38;5;28;01mtry\u001b[39;00m:\n",
      "\u001b[0;31mFileNotFoundError\u001b[0m: [Errno 2] No such file or directory: '/Users/aciuffo/Downloads/client_secrets.json'"
     ]
    }
   ],
   "source": [
    "shutil.move(constants.SECRETS_PATHS['downloaded'], constants.SECRETS_PATHS['saved'])"
   ]
  },
  {
   "cell_type": "code",
   "execution_count": 17,
   "id": "df8b182a",
   "metadata": {},
   "outputs": [
    {
     "data": {
      "text/plain": [
       "False"
      ]
     },
     "execution_count": 17,
     "metadata": {},
     "output_type": "execute_result"
    }
   ],
   "source": [
    "constants.SECRETS_PATHS['saved'].exists()"
   ]
  },
  {
   "cell_type": "code",
   "execution_count": 20,
   "id": "79ecb77f",
   "metadata": {},
   "outputs": [
    {
     "name": "stdout",
     "output_type": "stream",
     "text": [
      "copy /Users/aciuffo/Downloads/client_secrets.json to /Users/aciuffo/.cache/gdrive_audit/client_secrets.json\n"
     ]
    }
   ],
   "source": [
    "get_secrets()"
   ]
  },
  {
   "cell_type": "code",
   "execution_count": null,
   "id": "67cf8a9a",
   "metadata": {},
   "outputs": [],
   "source": []
  },
  {
   "cell_type": "code",
   "execution_count": null,
   "id": "a1c021e9",
   "metadata": {},
   "outputs": [],
   "source": [
    "main()"
   ]
  },
  {
   "cell_type": "code",
   "execution_count": null,
   "id": "08609683",
   "metadata": {},
   "outputs": [],
   "source": [
    "wrapper = textwrap.TextWrapper(replace_whitespace=True, drop_whitespace=True, width=45)"
   ]
  },
  {
   "cell_type": "code",
   "execution_count": null,
   "id": "0ea4bc04",
   "metadata": {},
   "outputs": [],
   "source": []
  }
 ],
 "metadata": {
  "kernelspec": {
   "display_name": "gdrive_audit-k7Dny7ri",
   "language": "python",
   "name": "gdrive_audit-k7dny7ri"
  },
  "language_info": {
   "codemirror_mode": {
    "name": "ipython",
    "version": 3
   },
   "file_extension": ".py",
   "mimetype": "text/x-python",
   "name": "python",
   "nbconvert_exporter": "python",
   "pygments_lexer": "ipython3",
   "version": "3.9.2"
  }
 },
 "nbformat": 4,
 "nbformat_minor": 5
}
