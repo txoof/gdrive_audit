{
 "cells": [
  {
   "cell_type": "code",
   "execution_count": 1,
   "id": "cb074cec",
   "metadata": {},
   "outputs": [],
   "source": [
    "%load_ext autoreload\n",
    "%autoreload 2"
   ]
  },
  {
   "cell_type": "code",
   "execution_count": 2,
   "id": "0bb98540",
   "metadata": {},
   "outputs": [],
   "source": [
    "try:\n",
    "    from . import contants\n",
    "except ImportError:\n",
    "    import constants\n",
    "\n",
    "import re\n",
    "import logging\n",
    "import shutil\n",
    "import tempfile\n",
    "import unicodedata\n",
    "import datetime\n",
    "import csv\n",
    "import sys\n",
    "\n",
    "from pathlib import Path\n",
    "\n",
    "from humanfriendly import prompts, \n",
    "import textwrap\n",
    "\n",
    "\n"
   ]
  },
  {
   "cell_type": "code",
   "execution_count": 3,
   "id": "d1f1befc",
   "metadata": {},
   "outputs": [],
   "source": [
    "from library import GDrive\n",
    "from library.GDrive import GDriveError"
   ]
  },
  {
   "cell_type": "code",
   "execution_count": 4,
   "id": "010d64b1",
   "metadata": {},
   "outputs": [],
   "source": [
    "logging.basicConfig(level=logging.DEBUG)\n",
    "logger = logging.getLogger(__name__)"
   ]
  },
  {
   "cell_type": "code",
   "execution_count": 5,
   "id": "6929739b",
   "metadata": {},
   "outputs": [],
   "source": [
    "def do_exit(exit_level=0, message='', testing=False):\n",
    "\n",
    "    if testing:\n",
    "        print(f'TESTING--EXIT MESSAGE: ({exit_level}){message}')\n",
    "    elif exit_level > 0:\n",
    "        logger.warning(f'exiting before completion with exit code {exit_level}: {message}')\n",
    "        print('exiting due to errors:')\n",
    "        print(message)\n",
    "        sys.exit(exit_level)\n",
    "    else:\n",
    "        print(message)\n",
    "        sys.exit(0)\n",
    "        "
   ]
  },
  {
   "cell_type": "code",
   "execution_count": 6,
   "id": "62f4c240",
   "metadata": {},
   "outputs": [],
   "source": [
    "def slugify(value, allow_unicode=False, lower=False):\n",
    "    \"\"\"\n",
    "    Taken from https://github.com/django/django/blob/master/django/utils/text.py\n",
    "    Convert to ASCII if 'allow_unicode' is False. Convert spaces or repeated\n",
    "    dashes to single dashes. Remove characters that aren't alphanumerics,\n",
    "    underscores, or hyphens. Convert to lowercase. Also strip leading and\n",
    "    trailing whitespace, dashes, and underscores.\n",
    "    \"\"\"\n",
    "    value = str(value)\n",
    "    if allow_unicode:\n",
    "        value = unicodedata.normalize('NFKC', value)\n",
    "    else:\n",
    "        value = unicodedata.normalize('NFKD', value).encode('ascii', 'ignore').decode('ascii')\n",
    "    if lower:\n",
    "        value = re.sub(r'[^\\w\\s-]', '', value.lower())\n",
    "    return re.sub(r'[-\\s]+', '_', value).strip('-_')"
   ]
  },
  {
   "cell_type": "code",
   "execution_count": 7,
   "id": "bef5cb80",
   "metadata": {},
   "outputs": [],
   "source": [
    "def recurse_folders(drive, parents, \n",
    "                    fields=['parents', 'id', 'name', 'mimeType', 'owners', 'modifiedTime', 'webViewLink', 'parents'], \n",
    "                    file_list=[], skipped=[], depth=0):\n",
    "    '''recursively find all files in a google drive folder'''\n",
    "    if depth == 0:\n",
    "        file_list = []\n",
    "        skipped = []\n",
    "    logger.info(f'recursion depth: {depth}')\n",
    "    try:\n",
    "        result = drive.search(parents=parents, fields=fields)\n",
    "    except GDriveError as e:\n",
    "        logger.error(f'error accessing google drive: {e}')\n",
    "        skipped.append(parents)\n",
    "        result = {}\n",
    "        \n",
    "    for f in result:\n",
    "        if drive.MIMETYPES['folder'] == f.get('mimeType'):\n",
    "            return_files, return_skipped = recurse_folders(drive=drive, parents=f['id'], \n",
    "                                         fields=fields, \n",
    "                                         file_list=file_list,\n",
    "                                         skipped=skipped,\n",
    "                                         depth=depth+1)\n",
    "            file_list + return_files\n",
    "            skipped + return_files\n",
    "        else:\n",
    "            file_list.append(f)\n",
    "    return (file_list, skipped)\n",
    "            "
   ]
  },
  {
   "cell_type": "code",
   "execution_count": 35,
   "id": "1c9c28aa",
   "metadata": {},
   "outputs": [],
   "source": [
    "def get_folder_id():\n",
    "    '''get folder id from URL provided by user\n",
    "    \n",
    "    Returns:\n",
    "        str: unique google drive folder id'''\n",
    "    valid_url = False\n",
    "    retry = 4\n",
    "    folderID = None\n",
    "    print('\\n')\n",
    "    while not valid_url and retry > 0:\n",
    "        retry -= 1\n",
    "        url = prompts.prompt_for_input('Paste the URL of a Google Drive folder to audit:\\n')\n",
    "        \n",
    "        match = re.match(\"https:\\/\\/drive\\.google\\.com(?:\\/\\w+)+\\/(\\w+)(?:\\?\\S+)?$\", url)\n",
    "        if not match:\n",
    "            print('That does not appear to be a valid google drive folder URL')\n",
    "            continue\n",
    "        else:\n",
    "            folderID = match[1]\n",
    "            valid_url = True\n",
    "    \n",
    "    return folderID"
   ]
  },
  {
   "cell_type": "code",
   "execution_count": 37,
   "id": "02ea9631",
   "metadata": {},
   "outputs": [],
   "source": [
    "def get_secrets():\n",
    "    if not constants.SECRETS_PATHS['saved'].exists():\n",
    "        constants.SECRETS_PATHS['saved'].parent.mkdir(parents=True, exist_ok=True)\n",
    "        \n",
    "    if not constants.SECRETS_PATHS['saved'].exists():\n",
    "        try:\n",
    "            logger.debug(f'trying to move secrets from {constants.SECRETS_PATHS[\"downloaded\"]}')\n",
    "            shutil.move(constants.SECRETS_PATHS['downloaded'], constants.SECRETS_PATHS['saved'])\n",
    "        except FileNotFoundError as e:\n",
    "            do_exit(1, \"client_secrets.json file is not avialable. Download the secrets file (see documentation) and try again.\")\n",
    "        except OSError as e:\n",
    "            do_exit(1, f\"failed to install secrets file: {e}\")\n",
    "    else:\n",
    "        logger.debug(f'using {constants.SECRETS_PATHS[\"saved\"]}')\n",
    "        \n",
    "    return constants.SECRETS_PATHS['saved']"
   ]
  },
  {
   "cell_type": "code",
   "execution_count": 26,
   "id": "26b1849f",
   "metadata": {},
   "outputs": [],
   "source": [
    "def output_csv(name, file_list, output=None):    \n",
    "    if output:\n",
    "        output = Path(output)/name\n",
    "        if not output.parent.exists():\n",
    "            output.parent.mkdir(exist_ok=True, parents=True)\n",
    "    else:\n",
    "        temp_dir = tempfile.mkdtemp()\n",
    "        output = Path(temp_dir)/name\n",
    "    logger.debug(f'using output file: {output}')\n",
    "    \n",
    "    fieldnames = ['name', 'emailAddress', 'displayName', 'webViewLink', 'modifiedTime', 'mimeType']\n",
    "    pull = ['name', 'webViewLink', 'modifiedTime', 'mimeType']\n",
    "    \n",
    "    try:\n",
    "        with open(output, 'w') as csvfile:            \n",
    "            writer = csv.DictWriter(csvfile, fieldnames=fieldnames)\n",
    "            writer.writeheader()\n",
    "            for row in file_list:\n",
    "                line = {}\n",
    "                for n in pull:\n",
    "                    line[n] = row.get(n, '?error?')\n",
    "                line['displayName'] = row.get('owners', [{}])[0].get('displayName', 'Unknown')\n",
    "                line['emailAddress'] = row.get('owners', [{}])[0].get('emailAddress', 'Unknown')\n",
    "                writer.writerow(line)\n",
    "    except OSError as e:\n",
    "        do_exit(1, f\"error writing {output}: {e}\")\n",
    "\n",
    "    return output"
   ]
  },
  {
   "cell_type": "code",
   "execution_count": 41,
   "id": "ab800c72",
   "metadata": {},
   "outputs": [],
   "source": [
    "def main():\n",
    "    \n",
    "    secrets = get_secrets()\n",
    "    \n",
    "    drive = GDrive(secrets=secrets, scopes=constants.SCOPES)\n",
    "    \n",
    "#     return drive\n",
    "    \n",
    "    wrapper = textwrap.TextWrapper(replace_whitespace=True, drop_whitespace=True, width=60)\n",
    "    welcome = f'{constants.APP_NAME} provides a Google Sheet that shows all of the files and owners within a google drive folder.'\n",
    "    print('\\n'.join(wrapper.wrap(welcome)))\n",
    "    \n",
    "    \n",
    "    while True:\n",
    "        folder_id = get_folder_id()\n",
    "\n",
    "        if not folder_id:\n",
    "            do_exit(1, 'No valid folder URL was provided. Exiting')\n",
    "\n",
    "        try:\n",
    "            folder_props = drive.get_properties(fileId=folder_id, fields=['owners', 'name', 'webViewLink', 'kind', 'id', 'mimeType'])\n",
    "        except GDriveError as e:\n",
    "            msg = f'failed to get information on this folder: {e}'\n",
    "            do_exit(1, msg)\n",
    "\n",
    "\n",
    "        folder_name = folder_props.get('name', 'UNKNOWN FOLDER')\n",
    "        time_string = datetime.date.strftime(datetime.datetime.now(), '%Y%m%d_%H%M%S')\n",
    "        owners = folder_props.get('owners', [{}])\n",
    "\n",
    "        if len(owners) > 0:\n",
    "            owner_name = owners[0].get('displayName', 'UNKNOWN OWNER')\n",
    "        else:\n",
    "            owner_name = \"UNKNOWN OWNER\"                           \n",
    "\n",
    "        google_filename = f'FOLDER:{folder_name} OWNER:{owner_name}-ownership audit [{time_string}]'\n",
    "        local_filename = f'{time_string}.csv'\n",
    "\n",
    "        files, skipped = recurse_folders(drive, parents=folder_id)\n",
    "\n",
    "        local_file = output_csv(local_filename, files)\n",
    "        try:\n",
    "            logger.debug(f'sending csv to google sheets: {google_filename}')\n",
    "            added_file = drive.add_file(local_file, name=google_filename, target_mimeType='sheets')\n",
    "        except GDriveError as e:\n",
    "            do_exit(1, f'failed to send audit sheet to google: {e}\\nLocal copy available here: {local_file}')\n",
    "\n",
    "\n",
    "        print(f'Audit completed and stored in the sheet below.')\n",
    "        print(f'Audit of folder: {added_file.get(\"webViewLink\", \"ERROR\")}\\n\\n')\n",
    "        print(f'Use the sheet linked below to assist in viewing and filtering the audit:')\n",
    "        print(constants.AUDIT_FILTER)\n",
    "        \n",
    "        cont = prompts.prompt_for_confirmation('Audit another Folder?', default=False)\n",
    "        if not cont:\n",
    "            break\n",
    "\n",
    "    \n",
    "    return added_file\n",
    "   \n"
   ]
  },
  {
   "cell_type": "code",
   "execution_count": 43,
   "id": "c02c2fba",
   "metadata": {},
   "outputs": [
    {
     "name": "stderr",
     "output_type": "stream",
     "text": [
      "DEBUG:__main__:using /Users/aciuffo/.cache/gdrive_audit/client_secrets.json\n",
      "INFO:googleapiclient.discovery_cache:file_cache is only supported with oauth2client<4.0.0\n"
     ]
    },
    {
     "name": "stdout",
     "output_type": "stream",
     "text": [
      "gdrive_audit provides a Google Sheet that shows all of the\n",
      "files and owners within a google drive folder.\n",
      "\n",
      "\n",
      "\n",
      " Paste the URL of a Google Drive folder to audit:\n",
      " https://drive.google.com/drive/folders/0B5phaBV4N75ja3YzdUJUcTljTnc?resourcekey=0-mrSF7VJLpK31J7sQbdWWmw\n"
     ]
    },
    {
     "name": "stderr",
     "output_type": "stream",
     "text": [
      "\n",
      "DEBUG:library.GDrive:attempt: 0\n",
      "DEBUG:googleapiclient.discovery:URL being requested: GET https://www.googleapis.com/drive/v3/files/0B5phaBV4N75ja3YzdUJUcTljTnc?fields=kind%2Cname%2CmimeType%2Cid%2Cowners%2CwebViewLink&supportsAllDrives=true&alt=json\n",
      "INFO:__main__:recursion depth: 0\n",
      "DEBUG:library.GDrive:attempt: 0\n",
      "DEBUG:library.GDrive:QUERY STRING: \"0B5phaBV4N75ja3YzdUJUcTljTnc\" in parents\n",
      "DEBUG:library.GDrive:fettching page of 300 results with query \"0B5phaBV4N75ja3YzdUJUcTljTnc\" in parents\n",
      "DEBUG:googleapiclient.discovery:URL being requested: GET https://www.googleapis.com/drive/v3/files?q=%220B5phaBV4N75ja3YzdUJUcTljTnc%22+in+parents&corpora=user&includeItemsFromAllDrives=false&supportsAllDrives=false&fields=nextPageToken%2C+files%28id%2Cowners%2CmodifiedTime%2CwebViewLink%2Cparents%2Cname%2CmimeType%29&driveId=&pageSize=300&pageToken=&alt=json\n",
      "DEBUG:library.GDrive:2 total matches returned\n",
      "DEBUG:__main__:using output file: /var/folders/b0/67fplmbs6h38d0yjvvwkt898z4pk2_/T/tmp4tf4tq_l/20220204_111557.csv\n",
      "DEBUG:__main__:sending csv to google sheets: FOLDER:Ab initio year 2 OWNER:Martin O'Donnell-ownership audit [20220204_111557]\n",
      "DEBUG:library.GDrive:attempt: 0\n",
      "DEBUG:googleapiclient.discovery:URL being requested: POST https://www.googleapis.com/upload/drive/v3/files?fields=id%2CwebViewLink%2CmimeType&alt=json&uploadType=multipart\n",
      "DEBUG:humanfriendly.prompts:Requesting interactive confirmation from terminal: 'Audit another Folder? y/N [y/N]'\n"
     ]
    },
    {
     "name": "stdout",
     "output_type": "stream",
     "text": [
      "Audit completed and stored in the sheet below.\n",
      "Audit of folder: https://docs.google.com/spreadsheets/d/1kmGwO1ysJ_0AGvjWyHcRTAlSW1AUne1qJxBRhHCabWw/edit?usp=drivesdk\n",
      "\n",
      "\n",
      "Use the sheet linked below to assist in viewing and filtering the audit:\n",
      "https://docs.google.com/spreadsheets/d/15U7uA7O9yAX61g_WPvdeGGuEninmJbnnyzA7wbHIaw0/copy\n",
      "\n",
      " Audit another Folder? y/N [y/N] y\n"
     ]
    },
    {
     "name": "stderr",
     "output_type": "stream",
     "text": [
      "\n",
      "DEBUG:humanfriendly.prompts:Confirmation granted by reply ('y').\n"
     ]
    },
    {
     "name": "stdout",
     "output_type": "stream",
     "text": [
      "\n",
      "\n",
      "\n",
      " Paste the URL of a Google Drive folder to audit:\n",
      " https://drive.google.com/drive/folders/0B5phaBV4N75ja3YzdUJUcTljTnc?resourcekey=0-mrSF7VJLpK31J7sQbdWWmw\n"
     ]
    },
    {
     "name": "stderr",
     "output_type": "stream",
     "text": [
      "\n",
      "DEBUG:library.GDrive:attempt: 0\n",
      "DEBUG:googleapiclient.discovery:URL being requested: GET https://www.googleapis.com/drive/v3/files/0B5phaBV4N75ja3YzdUJUcTljTnc?fields=kind%2Cname%2CmimeType%2Cid%2Cowners%2CwebViewLink&supportsAllDrives=true&alt=json\n",
      "INFO:__main__:recursion depth: 0\n",
      "DEBUG:library.GDrive:attempt: 0\n",
      "DEBUG:library.GDrive:QUERY STRING: \"0B5phaBV4N75ja3YzdUJUcTljTnc\" in parents\n",
      "DEBUG:library.GDrive:fettching page of 300 results with query \"0B5phaBV4N75ja3YzdUJUcTljTnc\" in parents\n",
      "DEBUG:googleapiclient.discovery:URL being requested: GET https://www.googleapis.com/drive/v3/files?q=%220B5phaBV4N75ja3YzdUJUcTljTnc%22+in+parents&corpora=user&includeItemsFromAllDrives=false&supportsAllDrives=false&fields=nextPageToken%2C+files%28id%2Cowners%2CmodifiedTime%2CwebViewLink%2Cparents%2Cname%2CmimeType%29&driveId=&pageSize=300&pageToken=&alt=json\n",
      "DEBUG:library.GDrive:2 total matches returned\n",
      "DEBUG:__main__:using output file: /var/folders/b0/67fplmbs6h38d0yjvvwkt898z4pk2_/T/tmpawe9yc2f/20220204_111606.csv\n",
      "DEBUG:__main__:sending csv to google sheets: FOLDER:Ab initio year 2 OWNER:Martin O'Donnell-ownership audit [20220204_111606]\n",
      "DEBUG:library.GDrive:attempt: 0\n",
      "DEBUG:googleapiclient.discovery:URL being requested: POST https://www.googleapis.com/upload/drive/v3/files?fields=id%2CwebViewLink%2CmimeType&alt=json&uploadType=multipart\n",
      "DEBUG:humanfriendly.prompts:Requesting interactive confirmation from terminal: 'Audit another Folder? y/N [y/N]'\n"
     ]
    },
    {
     "name": "stdout",
     "output_type": "stream",
     "text": [
      "Audit completed and stored in the sheet below.\n",
      "Audit of folder: https://docs.google.com/spreadsheets/d/1A8sAN0c_aRqRm2nb5wO6GJu7yJPxDuRbvcF7Wqva5tQ/edit?usp=drivesdk\n",
      "\n",
      "\n",
      "Use the sheet linked below to assist in viewing and filtering the audit:\n",
      "https://docs.google.com/spreadsheets/d/15U7uA7O9yAX61g_WPvdeGGuEninmJbnnyzA7wbHIaw0/copy\n",
      "\n",
      " Audit another Folder? y/N [y/N] n\n"
     ]
    },
    {
     "name": "stderr",
     "output_type": "stream",
     "text": [
      "\n",
      "DEBUG:humanfriendly.prompts:Confirmation denied by reply ('n').\n"
     ]
    }
   ],
   "source": [
    "if __name__ == \"__main__\":\n",
    "    f = main()"
   ]
  },
  {
   "cell_type": "code",
   "execution_count": 44,
   "id": "9f23087d",
   "metadata": {},
   "outputs": [
    {
     "name": "stdout",
     "output_type": "stream",
     "text": [
      "[NbConvertApp] Converting notebook gdrive_audit.ipynb to python\n",
      "[NbConvertApp] Writing 7794 bytes to gdrive_audit.py\n"
     ]
    }
   ],
   "source": [
    "!jupyter-nbconvert --to python --template python_clean gdrive_audit.ipynb"
   ]
  }
 ],
 "metadata": {
  "kernelspec": {
   "display_name": "gdrive_audit-k7Dny7ri",
   "language": "python",
   "name": "gdrive_audit-k7dny7ri"
  },
  "language_info": {
   "codemirror_mode": {
    "name": "ipython",
    "version": 3
   },
   "file_extension": ".py",
   "mimetype": "text/x-python",
   "name": "python",
   "nbconvert_exporter": "python",
   "pygments_lexer": "ipython3",
   "version": "3.9.2"
  }
 },
 "nbformat": 4,
 "nbformat_minor": 5
}
