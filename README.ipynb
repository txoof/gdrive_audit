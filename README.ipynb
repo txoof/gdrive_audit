{
 "cells": [
  {
   "cell_type": "markdown",
   "id": "38f3614d",
   "metadata": {},
   "source": [
    "# GDrive Audit\n",
    "Audit ownership in Google Drive folders"
   ]
  },
  {
   "cell_type": "markdown",
   "id": "2c127d4d",
   "metadata": {},
   "source": [
    "## Resources\n",
    "* [Python Quick Start](https://developers.google.com/drive/api/v3/quickstart/python)\n",
    "\n",
    "## Setup\n",
    "\n",
    "### Back End API\n",
    "*Instructions as of Jan 2022*\n",
    "\n",
    "**[Setup API Connection with Google](https://developers.google.com/drive/api/v3/enable-drive-api)**\n",
    "\n",
    "This needs to be done by a Workspace user within the domain that has API permissions from the [Cloud Console](https://console.cloud.google.com/apis/dashboard)\n",
    "\n",
    "1. Use the *Project* drop down menu (top left corner) and choose *NEW PROJECT*\n",
    "2. Provide the following information and click *Create*\n",
    "    - Project Name: something meaningful to you e.g. *Google Drive Folder Audit*\n",
    "    - Organization: your tld e.g. ash.nl\n",
    "    - Location: your org e.g. ash.nl\n",
    "3. Select project from *Project* drop down menu (top left corner)\n",
    "4. Use ≡ Menu (top left corner) to choose *APIs & Services*\n",
    "5. Use the *+ ENABLE APIS AND SERVICES* menu to add the Google Drive API\n",
    "6. Locate and choose *Google Drive API*\n",
    "7. Click *ENABLE*\n",
    "8. Create credentials from the *Overview* screen (use left-hand menu) by clicking *CREATE CREDENTIALS*\n",
    "    - (1) Credential Type: \n",
    "        - Which API are you using? *Google Drive API*\n",
    "        - What data will you be accessing? *User data*\n",
    "        - *NEXT*\n",
    "    - (2) OAuth Consent Screen:\n",
    "       - App Information:\n",
    "          - App name: something meaningful to you e.g. *Google Drive Folder Audit*\n",
    "          - User support email: API User (e.g. you)\n",
    "          - App logo: upload if you have one\n",
    "       - Developer contact information:\n",
    "          - Email address: appropriate contact information\n",
    "          - *SAVE AND CONTINUE*\n",
    "    - (3) Scopes:\n",
    "        - *ADD OR REMOVE SCOPES*\n",
    "          - [x] See, edit, create, and delete only the specific Google Drive files you use with this app\n",
    "          - [x] View and manage metadata of files in your Google Drive\n",
    "          - [x] See information about your Google Drive files\n",
    "          - [x] View the activity record of files in your Google Drive\n",
    "          - *SAVE AND CONTINUE*\n",
    "    - (4) OAuth Client ID\n",
    "        - Application type: Desktop app\n",
    "        - Name: logical name e.g. Google Drive Folder Audit\n",
    "    - (5) Download your credentials\n",
    "        - Download\n",
    "        - Done\n",
    "       \n",
    "\n",
    "\n",
    "* [Create an OAuth client ID](https://developers.google.com/workspace/guides/create-credentials#oauth-client-id)\n",
    "    \n",
    " "
   ]
  },
  {
   "cell_type": "code",
   "execution_count": 1,
   "id": "9aed1042",
   "metadata": {},
   "outputs": [
    {
     "name": "stdout",
     "output_type": "stream",
     "text": [
      "[NbConvertApp] Converting notebook README.ipynb to markdown\n",
      "[NbConvertApp] Writing 2369 bytes to README.md\n"
     ]
    }
   ],
   "source": [
    "!jupyter-nbconvert --to markdown --template md_nocode README.ipynb"
   ]
  },
  {
   "cell_type": "code",
   "execution_count": null,
   "id": "88a0e13a",
   "metadata": {},
   "outputs": [],
   "source": []
  }
 ],
 "metadata": {
  "kernelspec": {
   "display_name": "gdrive_audit-YwT2AZf4",
   "language": "python",
   "name": "gdrive_audit-ywt2azf4"
  },
  "language_info": {
   "codemirror_mode": {
    "name": "ipython",
    "version": 3
   },
   "file_extension": ".py",
   "mimetype": "text/x-python",
   "name": "python",
   "nbconvert_exporter": "python",
   "pygments_lexer": "ipython3",
   "version": "3.9.9"
  }
 },
 "nbformat": 4,
 "nbformat_minor": 5
}
