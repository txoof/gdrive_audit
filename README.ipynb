{
 "cells": [
  {
   "cell_type": "markdown",
   "id": "233fb6fe",
   "metadata": {},
   "source": [
    "\n",
    "# Notes\n",
    "\n",
    "## Scopes\n",
    "Probably can reduce the scopes to: \n",
    "* https://www.googleapis.com/auth/drive\n",
    "\n",
    "\n",
    "see sample here: https://developers.google.com/drive/api/v3/reference/files/get?apix_params=%7B%22fileId%22%3A%221bTQyCQalR2Yxm12HrpPMUmvjS60zl82FvpCJ7k257Ag%22%2C%22supportsAllDrives%22%3Atrue%2C%22fields%22%3A%22owners%2CmimeType%2CwebViewLink%22%7D\n",
    "\n",
    "Fields:\n",
    "* supportsAllDrives: True\n",
    "* fields: owners,mimeType,webViewLink\n",
    "\n"
   ]
  },
  {
   "cell_type": "markdown",
   "id": "748d861f",
   "metadata": {},
   "source": [
    "# To Do\n",
    "\n",
    "## Documentation \n",
    "* [ ] upload secrets to google drive folder\n",
    "* [ ] add link to documentation\n",
    "* [ ] add link to documentation to software when secrets are not found\n",
    "* [ ] Add instructions for setting up build environment\n",
    "* [ ] add instructions for building\n",
    "\n",
    "## Program\n",
    "* [ ] reduce annoying log output\n",
    "* [ ] add option for setting loging verbosity on command line\n",
    "* [ ] add link to documentation when secrets are not found\n",
    "\n",
    "## Repo\n",
    "* Add .pkg to repo\n",
    "* Add sample pycodesign.ini to repo that has developer information removed\n"
   ]
  },
  {
   "cell_type": "markdown",
   "id": "591ce753",
   "metadata": {},
   "source": [
    "# GDrive Audit\n",
    "Audit ownership of all files in a Google Drive folder.\n",
    "\n",
    "*GDrive Audit* produces a google sheet that shows all the files within a folder and their owners. This tool can aid in migrating folders into a Google _Shared Drive_. Run the audit tool to verify that all items contained within the _shared folder_ are owned by the team and are suitable for migrating into a Google _Shared Drive_.\n",
    "\n",
    "Remember: When super-admins migrate a folder into a _Shared Drive_ all ownership of the files is transferred to the organization. This is strictly a ONE WAY process and cannot be undone. If items that are meant for organization-wide consumption are migrated, the rest of the organization will lose access. Each item must be individually restored to the original owner. There is **no undo**.\n",
    "\n",
    "## Requirements\n",
    "* M1 Mac for `.pkg` version\n",
    "    * See [Building](#building) instructions below for building on other platforms\n",
    "* Google Workspace Account -- This application will only run for accounts covered under a Google Workspace license\n",
    "* Valid [`client_secrets.json` for ASH team members](https://drive.google.com/file/d/1HpkPtTeQ75oDP7iIHZzQmUAVJpvk5slA/view?usp=sharing) file\n",
    "    * For users outside of ASH, see the [Back end API instructions](#backendapi) for obtaining a `secrets` file."
   ]
  },
  {
   "cell_type": "markdown",
   "id": "75e74ec6",
   "metadata": {},
   "source": [
    "## Getting Started\n",
    "\n",
    "Any Google Workspace user can audit a folder that is shared with them. The audit will be limited to folders that they can read in google drive. Ask the team to move all the folders that will be migrated into a shared folder and to give your user _Editor_ access to the shared folder. Follow the steps below to audit the folder.\n",
    "\n",
    "You will need a valid `client_secrets.json` file to setup and use the software for the first time.\n",
    "\n",
    "**To Get Started**\n",
    "\n",
    "* Download the program from this [link]() and run the `.pkg` installer by double clicking\n",
    "    * You will likely need an admin password to complete the installation process\n",
    "* Obtain a `client_secrets.json` file and place it in your Downloads folder\n",
    "    * ASH team members can download the [`client_secrets.json`](https://drive.google.com/file/d/1HpkPtTeQ75oDP7iIHZzQmUAVJpvk5slA/view?usp=sharing) file\n",
    "    * Google Workspace users ouside of the ASH.nl organization, can create their own client_secrets.json file by following the [Back end API instructions](#backendapi) below\n",
    "* Double click on the `/Applications/gdrive_audit` executable to run it\n",
    "* Follow the prompts for authorizing the tool \n",
    "    - This tool needs to have read and write access to your Google Drive\n",
    "    - Rationale for Read Access: Each file in a folder is checked for ownership, file type and modification time\n",
    "    - Rationale for Write Access: A summary of the findings is uploaded to Google Sheets \n",
    "    - Rationale for Delete Access: This access is bundled together with the Write access\n",
    "* Paste in the URL of the folder you wish to audit for migration\n",
    "* Once the audit is complete, go on to [Auditing the Results](#Auditing)\n",
    "* Repeat the steps above as needed to audit additional folders"
   ]
  },
  {
   "cell_type": "markdown",
   "id": "128b0bc9",
   "metadata": {},
   "source": [
    "<a name='Auditing'></a>\n",
    "## Auditing the Results\n",
    "\n",
    "After the audit is complete, a new file will be created in your _My Drive_. The link will be provided by the tool. The sheet can be used as-is or analyzed with a sheet that helps filter and organize the audited files. \n",
    "\n",
    "Use this [link](https://docs.google.com/spreadsheets/d/15U7uA7O9yAX61g_WPvdeGGuEninmJbnnyzA7wbHIaw0/copy) to make a copy of the filter. Follow the instructions embedded in the filter sheet.\n",
    "\n",
    "**What to look for when auditing a folder**\n",
    "\n",
    "* Review the owners of the documents\n",
    "* Look for items that are owned by users **not** in the team\n",
    "* Review any suspect items with the team and confirm that these items should be moved into the shared drive\n",
    "    * If there is **any** doubt that the original owner can afford to lose access, **REMOVE** these items from the shared folder. The transfer to a _Shared Drive_ cannot be easily undone.\n",
    "    * Suspect items can be excluded from the migration by simply moving out of the shared folder.\n",
    "* Look for items that are owned by users **outside** of your organization \n",
    "    * These items will not be migrated and will be left in place. Some users find this distressing.\n",
    "    * Items that are owned by external users can be copied by someone in the team; the copy will be migrated."
   ]
  },
  {
   "cell_type": "markdown",
   "id": "293680bb",
   "metadata": {},
   "source": [
    "## Resources\n",
    "* [Python Quick Start from Google](https://developers.google.com/drive/api/v3/quickstart/python)\n",
    "* [Create an OAuth client ID](https://developers.google.com/workspace/guides/create-credentials#oauth-client-id)"
   ]
  },
  {
   "cell_type": "markdown",
   "id": "8343e9ae",
   "metadata": {},
   "source": [
    "<a name=building></a>\n",
    "## Building\n",
    "\n",
    "<a name=installsecrets></a>\n",
    "### Installing Secrets\n",
    "A `client_secrets.json` file is required. Obtain a copy by following the [Back End API](#backendapi) instructions, or if you are an ASH staff member, download a copy from google drive [here](https://drive.google.com/file/d/1HpkPtTeQ75oDP7iIHZzQmUAVJpvk5slA/view?usp=sharing).\n",
    "\n",
    "Place the client_secrets.json file in you Downloads folder and then run `gdrive_audit`. The program will cache the secrets file in your home folder. \n",
    "\n",
    "For the curious, all cached information is stored in `~/.cache/gdrive_audit/`.\n",
    "\n",
    "### Build Environment\n",
    "**Requirements**\n",
    "\n",
    "* Python 3.7+\n",
    "* Python Modules**\n",
    "    * google-api-python-client\n",
    "    * google-auth-httplib2\n",
    "    * google-auth-oauthlib\n",
    "\n",
    "**Setup With Pipenv**\n",
    "\n",
    "Pipenv will create a virutal environment and install the appropriate modules:\n",
    "* `$ pip3 install pipenv`\n",
    "* `$ cd ./gdrive_audit`\n",
    "* `$ pipenv --python 3` \n",
    "* `$ pipenv install`"
   ]
  },
  {
   "cell_type": "markdown",
   "id": "a34eb288",
   "metadata": {},
   "source": [
    "<a name=backendapi></a>\n",
    "### Back End API\n",
    "*Instructions as of Jan 2022*\n",
    "\n",
    "**[Setup API Connection with Google](https://developers.google.com/drive/api/v3/enable-drive-api)**\n",
    "\n",
    "This needs to be done by a Workspace user within the domain that has API permissions from the [Cloud Console](https://console.cloud.google.com/apis/dashboard)\n",
    "\n",
    "1. Use the ≡ Menu to select *IAM & Admin* \n",
    "    - Select *Create a Project*\n",
    "2. Provide the following information and click ***Create***\n",
    "    - Project Name: something meaningful to you e.g. *Google Drive Folder Audit*\n",
    "    - Organization: your tld e.g. ash.nl\n",
    "    - Location: your org e.g. ash.nl\n",
    "3. Make sure the project created in the previous step is active \n",
    "    - Use top left menu or \n",
    "    - [cloud resource manager console](https://console.cloud.google.com/cloud-resource-manager)\n",
    "        - Select project and click ⋮ > ***Settings***\n",
    "4. Use Menu ≡ > *APIs & Services > Library *\n",
    "    - Locate and choose *Google Drive API*\n",
    "    - Click ***ENABLE***\n",
    "8. [Create OAuth client ID credentials](https://developers.google.com/workspace/guides/create-credentials#oauth-client-id)\n",
    "    - Menu ≡ *APIs & Services > Credentials*\n",
    "    - Click *+CREATE CREDENTIALS > Help me choose*\n",
    "    - (1) Credential Type\n",
    "        - Which API are you using? *Google Drive*\n",
    "        - What data will you be accessing? ◍ *User data*\n",
    "        - click ***NEXT***\n",
    "    - (2) Scopes\n",
    "        - *ADD OR REMOVE SCOPES*\n",
    "            - *Filter: Google Drive API*\n",
    "            - [x] See, edit, create, and delete only the specific Google Drive files you use with this app\n",
    "            - [x] View and manage metadata of files in your Google Drive\n",
    "            - [x] See information about your Google Drive files\n",
    "            - [x] View the activity record of files in your Google Drive\n",
    "            - click ***UPDATE***\n",
    "            - click ***SAVE AND CONTINUE***\n",
    "    - (3) OAuth Client ID\n",
    "        - Application type: *Dekstop app*\n",
    "        - Name: *Google Drive Folder Audit* or something similar\n",
    "        - click ***CREATE***\n",
    "        - click ***⇓ DOWNLOAD***\n",
    "            - Store the *client_secret_xxxx-yyyy.apps.googleuserconent.com.json* in the `./secrets/`\n",
    "            - ***DO NOT ADD THIS FILE TO YOUR GIT REPO*** It is a SECRET.\n",
    "            - the `.gitignore` file ignores files matching the pattern `client_secret*.json`\n",
    "        \n",
    "    \n",
    " "
   ]
  },
  {
   "cell_type": "code",
   "execution_count": 1,
   "id": "f64e2125",
   "metadata": {},
   "outputs": [
    {
     "name": "stdout",
     "output_type": "stream",
     "text": [
      "[NbConvertApp] Converting notebook README.ipynb to markdown\n",
      "[NbConvertApp] Writing 8739 bytes to README.md\n"
     ]
    }
   ],
   "source": [
    "!jupyter-nbconvert --to markdown --template md_nocode README.ipynb"
   ]
  },
  {
   "cell_type": "code",
   "execution_count": null,
   "id": "ac91c2ef",
   "metadata": {},
   "outputs": [],
   "source": []
  }
 ],
 "metadata": {
  "kernelspec": {
   "display_name": "gdrive_audit-k7Dny7ri",
   "language": "python",
   "name": "gdrive_audit-k7dny7ri"
  },
  "language_info": {
   "codemirror_mode": {
    "name": "ipython",
    "version": 3
   },
   "file_extension": ".py",
   "mimetype": "text/x-python",
   "name": "python",
   "nbconvert_exporter": "python",
   "pygments_lexer": "ipython3",
   "version": "3.10.2"
  }
 },
 "nbformat": 4,
 "nbformat_minor": 5
}
