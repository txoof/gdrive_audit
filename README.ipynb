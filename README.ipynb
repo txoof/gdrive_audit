{
 "cells": [
  {
   "cell_type": "markdown",
   "id": "233fb6fe",
   "metadata": {},
   "source": [
    "\n",
    "# Notes\n",
    "\n",
    "## Scopes\n",
    "Probably can reduce the scopes to: \n",
    "* https://www.googleapis.com/auth/drive\n",
    "\n",
    "\n",
    "see sample here: https://developers.google.com/drive/api/v3/reference/files/get?apix_params=%7B%22fileId%22%3A%221bTQyCQalR2Yxm12HrpPMUmvjS60zl82FvpCJ7k257Ag%22%2C%22supportsAllDrives%22%3Atrue%2C%22fields%22%3A%22owners%2CmimeType%2CwebViewLink%22%7D\n",
    "\n",
    "Fields:\n",
    "* supportsAllDrives: True\n",
    "* fields: owners,mimeType,webViewLink\n",
    "\n"
   ]
  },
  {
   "cell_type": "code",
   "execution_count": null,
   "id": "2913b315",
   "metadata": {},
   "outputs": [],
   "source": []
  },
  {
   "cell_type": "markdown",
   "id": "128b0bc9",
   "metadata": {},
   "source": [
    "# GDrive Audit\n",
    "Audit ownership in Google Drive folders"
   ]
  },
  {
   "cell_type": "markdown",
   "id": "293680bb",
   "metadata": {},
   "source": [
    "## Resources\n",
    "* [Python Quick Start](https://developers.google.com/drive/api/v3/quickstart/python)\n",
    "* [Create an OAuth client ID](https://developers.google.com/workspace/guides/create-credentials#oauth-client-id)"
   ]
  },
  {
   "cell_type": "markdown",
   "id": "8343e9ae",
   "metadata": {},
   "source": [
    "## Setup\n",
    "\n",
    "<a name=installsecrets></a>\n",
    "### Installing Secrets\n",
    "A `client_secrets.json` file is required. Obtain a copy by following the [Back End API](#backendapi) instructions, or if you are an ASH staff member, download a copy from google drive here: LINK\n",
    "\n",
    "Place the client_secrets.json file in you Downloads folder and then run `gdrive_audit`. The program will cache the secrets file in your home folder. \n",
    "\n",
    "For the curious, all cached information is stored in `~/.cache/gdrive_audit/`.\n",
    "\n",
    "### Environment\n",
    "**Requirements**\n",
    "* Python 3.7+\n",
    "* Python Modules**\n",
    "    * google-api-python-client\n",
    "    * google-auth-httplib2\n",
    "    * google-auth-oauthlib\n",
    "\n",
    "**Setup With Pipenv**\n",
    "\n",
    "Pipenv will create a virutal environment and install the appropriate modules:\n",
    "* `$ pip3 install pipenv`\n",
    "* `$ cd ./gdrive_audit`\n",
    "* `$ pipenv --python 3` "
   ]
  },
  {
   "cell_type": "markdown",
   "id": "a34eb288",
   "metadata": {},
   "source": [
    "<a name=backendapi></a>\n",
    "### Back End API\n",
    "*Instructions as of Jan 2022*\n",
    "\n",
    "**[Setup API Connection with Google](https://developers.google.com/drive/api/v3/enable-drive-api)**\n",
    "\n",
    "This needs to be done by a Workspace user within the domain that has API permissions from the [Cloud Console](https://console.cloud.google.com/apis/dashboard)\n",
    "\n",
    "1. Use the ≡ Menu to select *IAM & Admin* \n",
    "    - Select *Create a Project*\n",
    "2. Provide the following information and click ***Create***\n",
    "    - Project Name: something meaningful to you e.g. *Google Drive Folder Audit*\n",
    "    - Organization: your tld e.g. ash.nl\n",
    "    - Location: your org e.g. ash.nl\n",
    "3. Make sure the project created in the previous step is active \n",
    "    - Use top left menu or \n",
    "    - [cloud resource manager console](https://console.cloud.google.com/cloud-resource-manager)\n",
    "        - Select project and click ⋮ > ***Settings***\n",
    "4. Use Menu ≡ > *APIs & Services > Library *\n",
    "    - Locate and choose *Google Drive API*\n",
    "    - Click ***ENABLE***\n",
    "8. [Create OAuth client ID credentials](https://developers.google.com/workspace/guides/create-credentials#oauth-client-id)\n",
    "    - Menu ≡ *APIs & Services > Credentials*\n",
    "    - Click *+CREATE CREDENTIALS > Help me choose*\n",
    "    - (1) Credential Type\n",
    "        - Which API are you using? *Google Drive*\n",
    "        - What data will you be accessing? ◍ *User data*\n",
    "        - click ***NEXT***\n",
    "    - (2) Scopes\n",
    "        - *ADD OR REMOVE SCOPES*\n",
    "            - *Filter: Google Drive API*\n",
    "            - [x] See, edit, create, and delete only the specific Google Drive files you use with this app\n",
    "            - [x] View and manage metadata of files in your Google Drive\n",
    "            - [x] See information about your Google Drive files\n",
    "            - [x] View the activity record of files in your Google Drive\n",
    "            - click ***UPDATE***\n",
    "            - click ***SAVE AND CONTINUE***\n",
    "    - (3) OAuth Client ID\n",
    "        - Application type: *Dekstop app*\n",
    "        - Name: *Google Drive Folder Audit* or something similar\n",
    "        - click ***CREATE***\n",
    "        - click ***⇓ DOWNLOAD***\n",
    "            - Store the *client_secret_xxxx-yyyy.apps.googleuserconent.com.json* in the `./secrets/`\n",
    "            - ***DO NOT ADD THIS FILE TO YOUR GIT REPO*** It is a SECRET.\n",
    "            - the `.gitignore` file ignores files matching the pattern `client_secret*.json`\n",
    "        \n",
    "    \n",
    " "
   ]
  },
  {
   "cell_type": "markdown",
   "id": "08b3f450",
   "metadata": {},
   "source": [
    "## SCRATCH PAD\n",
    "\n",
    "- OAuth consent screen:\n",
    "        - User Type: *Internal*\n",
    "        - Click *CREATE*\n",
    "    - (1) Edit app registration\n",
    "       - App Information:\n",
    "          - App name: something meaningful to you e.g. *Google Drive Folder Audit*\n",
    "          - User support email: API User (e.g. you)\n",
    "          - App logo: upload if you have one\n",
    "       - App domain:\n",
    "           - Application home page: page with information about this app\n",
    "           - *other details as necessary*\n",
    "       - Authorized domains:\n",
    "           - *+ADD DOMAIN*\n",
    "           - google.com\n",
    "           - your domain e.g. ash.nl\n",
    "       - Developer contact information:\n",
    "          - Email address: appropriate contact information\n",
    "       - *SAVE AND CONTINUE*\n",
    "        \n",
    "    - (2) Scopes:\n",
    "        - *ADD OR REMOVE SCOPES*\n",
    "          - *Filter: Google Drive API*\n",
    "          - [x] See, edit, create, and delete only the specific Google Drive files you use with this app\n",
    "          - [x] View and manage metadata of files in your Google Drive\n",
    "          - [x] See information about your Google Drive files\n",
    "          - [x] View the activity record of files in your Google Drive\n",
    "          - *UPDATE*\n",
    "          - *SAVE AND CONTINUE*\n",
    "    - (3) Summary\n",
    "        - Reivew summary\n",
    "        - *BACK TO DASHBOARD*\n",
    "\n",
    "    \n",
    "\n",
    "    - (1) Credential Type: \n",
    "        - Which API are you using? *Google Drive API*\n",
    "        - What data will you be accessing? *User data*\n",
    "        - *NEXT*\n",
    "    - (2) OAuth Consent Screen:\n",
    "       - App Information:\n",
    "          - App name: something meaningful to you e.g. *Google Drive Folder Audit*\n",
    "          - User support email: API User (e.g. you)\n",
    "          - App logo: upload if you have one\n",
    "       - Developer contact information:\n",
    "          - Email address: appropriate contact information\n",
    "          - *SAVE AND CONTINUE*\n",
    "    - (3) Scopes:\n",
    "        - *ADD OR REMOVE SCOPES*\n",
    "          - [x] See, edit, create, and delete only the specific Google Drive files you use with this app\n",
    "          - [x] View and manage metadata of files in your Google Drive\n",
    "          - [x] See information about your Google Drive files\n",
    "          - [x] View the activity record of files in your Google Drive\n",
    "          - *SAVE AND CONTINUE*\n",
    "    - (4) OAuth Client ID\n",
    "        - Application type: Desktop app\n",
    "        - Name: logical name e.g. Google Drive Folder Audit\n",
    "    - (5) Download your credentials\n",
    "        - Download\n",
    "        - Done\n",
    "       \n",
    "\n",
    "\n",
    "    \n",
    " "
   ]
  },
  {
   "cell_type": "code",
   "execution_count": 1,
   "id": "f64e2125",
   "metadata": {},
   "outputs": [
    {
     "name": "stdout",
     "output_type": "stream",
     "text": [
      "[NbConvertApp] Converting notebook README.ipynb to markdown\n",
      "[NbConvertApp] Writing 2369 bytes to README.md\n"
     ]
    }
   ],
   "source": [
    "!jupyter-nbconvert --to markdown --template md_nocode README.ipynb"
   ]
  },
  {
   "cell_type": "code",
   "execution_count": null,
   "id": "ac91c2ef",
   "metadata": {},
   "outputs": [],
   "source": []
  }
 ],
 "metadata": {
  "kernelspec": {
   "display_name": "gdrive_audit-k7Dny7ri",
   "language": "python",
   "name": "gdrive_audit-k7dny7ri"
  },
  "language_info": {
   "codemirror_mode": {
    "name": "ipython",
    "version": 3
   },
   "file_extension": ".py",
   "mimetype": "text/x-python",
   "name": "python",
   "nbconvert_exporter": "python",
   "pygments_lexer": "ipython3",
   "version": "3.9.2"
  }
 },
 "nbformat": 4,
 "nbformat_minor": 5
}
